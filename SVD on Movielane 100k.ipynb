{
 "cells": [
  {
   "cell_type": "markdown",
   "metadata": {},
   "source": [
    "# User CF + Item CF + SVD"
   ]
  },
  {
   "cell_type": "code",
   "execution_count": 1,
   "metadata": {
    "collapsed": true
   },
   "outputs": [],
   "source": [
    "import pandas as pd\n",
    "import os"
   ]
  },
  {
   "cell_type": "markdown",
   "metadata": {},
   "source": [
    "### Import data\n",
    "The file \"u.data\" which contains the full dataset.\n",
    "- 100,000 rating(1-5) from 943 users on 1682 movies\n",
    "- Each user has rated at least 20 movies"
   ]
  },
  {
   "cell_type": "code",
   "execution_count": 2,
   "metadata": {
    "collapsed": true
   },
   "outputs": [],
   "source": [
    "data_dir = os.path.join('data', 'ml-100k')"
   ]
  },
  {
   "cell_type": "code",
   "execution_count": 3,
   "metadata": {},
   "outputs": [
    {
     "data": {
      "text/plain": [
       "'data/ml-100k'"
      ]
     },
     "execution_count": 3,
     "metadata": {},
     "output_type": "execute_result"
    }
   ],
   "source": [
    "data_dir"
   ]
  },
  {
   "cell_type": "code",
   "execution_count": 4,
   "metadata": {
    "collapsed": true
   },
   "outputs": [],
   "source": [
    "file_name = os.path.join(data_dir, 'u.data')\n",
    "\n",
    "df = pd.read_csv(file_name, sep='\\t', header = -1)"
   ]
  },
  {
   "cell_type": "markdown",
   "metadata": {},
   "source": [
    "### full u dataset\n",
    "- user id || item id || rating || timestape\n",
    "\n",
    "Give the columns name to the dataset"
   ]
  },
  {
   "cell_type": "code",
   "execution_count": 5,
   "metadata": {
    "collapsed": true
   },
   "outputs": [],
   "source": [
    "df.columns = ['user_id', 'item_id', 'rating', 'itemstape']"
   ]
  },
  {
   "cell_type": "code",
   "execution_count": 6,
   "metadata": {},
   "outputs": [
    {
     "data": {
      "text/html": [
       "<div>\n",
       "<style scoped>\n",
       "    .dataframe tbody tr th:only-of-type {\n",
       "        vertical-align: middle;\n",
       "    }\n",
       "\n",
       "    .dataframe tbody tr th {\n",
       "        vertical-align: top;\n",
       "    }\n",
       "\n",
       "    .dataframe thead th {\n",
       "        text-align: right;\n",
       "    }\n",
       "</style>\n",
       "<table border=\"1\" class=\"dataframe\">\n",
       "  <thead>\n",
       "    <tr style=\"text-align: right;\">\n",
       "      <th></th>\n",
       "      <th>user_id</th>\n",
       "      <th>item_id</th>\n",
       "      <th>rating</th>\n",
       "      <th>itemstape</th>\n",
       "    </tr>\n",
       "  </thead>\n",
       "  <tbody>\n",
       "    <tr>\n",
       "      <th>0</th>\n",
       "      <td>196</td>\n",
       "      <td>242</td>\n",
       "      <td>3</td>\n",
       "      <td>881250949</td>\n",
       "    </tr>\n",
       "    <tr>\n",
       "      <th>1</th>\n",
       "      <td>186</td>\n",
       "      <td>302</td>\n",
       "      <td>3</td>\n",
       "      <td>891717742</td>\n",
       "    </tr>\n",
       "    <tr>\n",
       "      <th>2</th>\n",
       "      <td>22</td>\n",
       "      <td>377</td>\n",
       "      <td>1</td>\n",
       "      <td>878887116</td>\n",
       "    </tr>\n",
       "    <tr>\n",
       "      <th>3</th>\n",
       "      <td>244</td>\n",
       "      <td>51</td>\n",
       "      <td>2</td>\n",
       "      <td>880606923</td>\n",
       "    </tr>\n",
       "    <tr>\n",
       "      <th>4</th>\n",
       "      <td>166</td>\n",
       "      <td>346</td>\n",
       "      <td>1</td>\n",
       "      <td>886397596</td>\n",
       "    </tr>\n",
       "  </tbody>\n",
       "</table>\n",
       "</div>"
      ],
      "text/plain": [
       "   user_id  item_id  rating  itemstape\n",
       "0      196      242       3  881250949\n",
       "1      186      302       3  891717742\n",
       "2       22      377       1  878887116\n",
       "3      244       51       2  880606923\n",
       "4      166      346       1  886397596"
      ]
     },
     "execution_count": 6,
     "metadata": {},
     "output_type": "execute_result"
    }
   ],
   "source": [
    "df.head()"
   ]
  },
  {
   "cell_type": "markdown",
   "metadata": {},
   "source": [
    "### Split dataset(train 20%, test 80%) "
   ]
  },
  {
   "cell_type": "code",
   "execution_count": 7,
   "metadata": {
    "collapsed": true
   },
   "outputs": [],
   "source": [
    "from sklearn.model_selection import train_test_split\n",
    "\n",
    "train_data, test_data = train_test_split(df, test_size = 0.2)"
   ]
  },
  {
   "cell_type": "markdown",
   "metadata": {},
   "source": [
    "### Rebuild the matrix(n x m) which n is number of users and m is the number of movies"
   ]
  },
  {
   "cell_type": "code",
   "execution_count": 8,
   "metadata": {},
   "outputs": [
    {
     "name": "stdout",
     "output_type": "stream",
     "text": [
      "Number of users = 943| number of movies = 1682\n"
     ]
    }
   ],
   "source": [
    "n_users = df.user_id.unique().shape[0]\n",
    "\n",
    "n_items = df.item_id.unique().shape[0]\n",
    "\n",
    "print('Number of users = ' + str(n_users) + '| number of movies = '+ str(n_items))"
   ]
  },
  {
   "cell_type": "markdown",
   "metadata": {},
   "source": [
    "### Create two user-item matrix, one for training and another for testing"
   ]
  },
  {
   "cell_type": "markdown",
   "metadata": {},
   "source": [
    "### Training dataset"
   ]
  },
  {
   "cell_type": "code",
   "execution_count": 9,
   "metadata": {},
   "outputs": [
    {
     "data": {
      "text/plain": [
       "(943, 1682)"
      ]
     },
     "execution_count": 9,
     "metadata": {},
     "output_type": "execute_result"
    }
   ],
   "source": [
    "import numpy as np\n",
    "\n",
    "train_data_matrix = np.zeros((n_users, n_items))\n",
    "\n",
    "train_data_matrix.shape"
   ]
  },
  {
   "cell_type": "markdown",
   "metadata": {},
   "source": [
    "### Testing dataset"
   ]
  },
  {
   "cell_type": "code",
   "execution_count": 10,
   "metadata": {
    "collapsed": true
   },
   "outputs": [],
   "source": [
    "test_data_matrix = np.zeros((n_users, n_items))"
   ]
  },
  {
   "cell_type": "code",
   "execution_count": 11,
   "metadata": {},
   "outputs": [
    {
     "data": {
      "text/html": [
       "<div>\n",
       "<style scoped>\n",
       "    .dataframe tbody tr th:only-of-type {\n",
       "        vertical-align: middle;\n",
       "    }\n",
       "\n",
       "    .dataframe tbody tr th {\n",
       "        vertical-align: top;\n",
       "    }\n",
       "\n",
       "    .dataframe thead th {\n",
       "        text-align: right;\n",
       "    }\n",
       "</style>\n",
       "<table border=\"1\" class=\"dataframe\">\n",
       "  <thead>\n",
       "    <tr style=\"text-align: right;\">\n",
       "      <th></th>\n",
       "      <th>user_id</th>\n",
       "      <th>item_id</th>\n",
       "      <th>rating</th>\n",
       "      <th>itemstape</th>\n",
       "    </tr>\n",
       "  </thead>\n",
       "  <tbody>\n",
       "    <tr>\n",
       "      <th>11228</th>\n",
       "      <td>368</td>\n",
       "      <td>436</td>\n",
       "      <td>3</td>\n",
       "      <td>889783562</td>\n",
       "    </tr>\n",
       "    <tr>\n",
       "      <th>46246</th>\n",
       "      <td>151</td>\n",
       "      <td>133</td>\n",
       "      <td>5</td>\n",
       "      <td>879524797</td>\n",
       "    </tr>\n",
       "    <tr>\n",
       "      <th>12336</th>\n",
       "      <td>378</td>\n",
       "      <td>304</td>\n",
       "      <td>4</td>\n",
       "      <td>880043929</td>\n",
       "    </tr>\n",
       "    <tr>\n",
       "      <th>99200</th>\n",
       "      <td>704</td>\n",
       "      <td>322</td>\n",
       "      <td>2</td>\n",
       "      <td>891396881</td>\n",
       "    </tr>\n",
       "    <tr>\n",
       "      <th>30268</th>\n",
       "      <td>524</td>\n",
       "      <td>490</td>\n",
       "      <td>3</td>\n",
       "      <td>884634679</td>\n",
       "    </tr>\n",
       "  </tbody>\n",
       "</table>\n",
       "</div>"
      ],
      "text/plain": [
       "       user_id  item_id  rating  itemstape\n",
       "11228      368      436       3  889783562\n",
       "46246      151      133       5  879524797\n",
       "12336      378      304       4  880043929\n",
       "99200      704      322       2  891396881\n",
       "30268      524      490       3  884634679"
      ]
     },
     "execution_count": 11,
     "metadata": {},
     "output_type": "execute_result"
    }
   ],
   "source": [
    "train_data.head()"
   ]
  },
  {
   "cell_type": "markdown",
   "metadata": {},
   "source": [
    "### insert the data into the train data matrix and test data matrix\n",
    "\n",
    "Becuase user_id and item_id are start from 1, so the value in the matrix should be decread by 1"
   ]
  },
  {
   "cell_type": "code",
   "execution_count": 12,
   "metadata": {
    "collapsed": true
   },
   "outputs": [],
   "source": [
    "for line in train_data.itertuples():\n",
    "    train_data_matrix[line[1] - 1, line[2] - 1] = line[3]\n",
    "\n",
    "for line in test_data.itertuples():\n",
    "    test_data_matrix[line[1] - 1, line[2] - 1] = line[3]"
   ]
  },
  {
   "cell_type": "markdown",
   "metadata": {},
   "source": [
    "### Data standarization"
   ]
  },
  {
   "cell_type": "markdown",
   "metadata": {},
   "source": [
    "##### Get the mean of each row"
   ]
  },
  {
   "cell_type": "code",
   "execution_count": 13,
   "metadata": {
    "collapsed": true
   },
   "outputs": [],
   "source": [
    "train_rows, train_cols = train_data_matrix.nonzero()\n",
    "\n",
    "X_row_mean = np.zeros(train_data_matrix.shape[0])\n",
    "X_row_sum = np.zeros(train_data_matrix.shape[0])\n",
    "\n",
    "for i in range(train_rows.shape[0]):\n",
    "    X_row_mean[train_rows[i]] += train_data_matrix[train_rows[i], train_cols[i]]\n",
    "    X_row_sum[train_rows[i]] += 1\n",
    "    \n",
    "X_row_mean /= X_row_sum + (X_row_sum == 0)"
   ]
  },
  {
   "cell_type": "code",
   "execution_count": 14,
   "metadata": {},
   "outputs": [
    {
     "data": {
      "text/plain": [
       "(943,)"
      ]
     },
     "execution_count": 14,
     "metadata": {},
     "output_type": "execute_result"
    }
   ],
   "source": [
    "X_row_mean.shape"
   ]
  },
  {
   "cell_type": "markdown",
   "metadata": {},
   "source": [
    "##### Copy the data"
   ]
  },
  {
   "cell_type": "code",
   "execution_count": 15,
   "metadata": {
    "collapsed": true
   },
   "outputs": [],
   "source": [
    "train_matrix = train_data_matrix.copy()\n",
    "test_matrix = test_data_matrix.copy()"
   ]
  },
  {
   "cell_type": "markdown",
   "metadata": {},
   "source": [
    "X - $\\overline{x}$$=$\n",
    "$\\begin{bmatrix}\n",
    "x_{1,1} && x_{1, 2} .... x_{1, n} \\\\\n",
    "x_{2,1} && x_{2, 2} .... x_{2, n} \\\\\n",
    ".\\\\\n",
    ".\\\\\n",
    ".\\\\\n",
    "x{m, 1} && x_{m, 2} .... x_{m, n}\n",
    "\\end{bmatrix}\n",
    "$\n",
    "$\n",
    "-\n",
    "$\n",
    "$\n",
    "\\begin{bmatrix}\n",
    "\\overline{x_{1}} \\\\\n",
    "\\overline{x_{2}} \\\\\n",
    ".\\\\\n",
    ".\\\\\n",
    ".\\\\\n",
    "\\overline{x_{m}}\n",
    "\\end{bmatrix}\n",
    "$"
   ]
  },
  {
   "cell_type": "code",
   "execution_count": 16,
   "metadata": {
    "collapsed": true
   },
   "outputs": [],
   "source": [
    "for i in range(train_rows.shape[0]):\n",
    "    train_data_matrix[train_rows[i], train_cols[i]] -= X_row_mean[train_rows[i]]"
   ]
  },
  {
   "cell_type": "code",
   "execution_count": 17,
   "metadata": {},
   "outputs": [
    {
     "data": {
      "text/plain": [
       "array([[ 1.38565022, -0.61434978,  0.38565022, ...,  0.        ,\n",
       "         0.        ,  0.        ],\n",
       "       [ 0.3125    ,  0.        ,  0.        , ...,  0.        ,\n",
       "         0.        ,  0.        ],\n",
       "       [ 0.        ,  0.        ,  0.        , ...,  0.        ,\n",
       "         0.        ,  0.        ],\n",
       "       ...,\n",
       "       [ 0.85714286,  0.        ,  0.        , ...,  0.        ,\n",
       "         0.        ,  0.        ],\n",
       "       [ 0.        ,  0.        ,  0.        , ...,  0.        ,\n",
       "         0.        ,  0.        ],\n",
       "       [ 0.        ,  1.63829787,  0.        , ...,  0.        ,\n",
       "         0.        ,  0.        ]])"
      ]
     },
     "execution_count": 17,
     "metadata": {},
     "output_type": "execute_result"
    }
   ],
   "source": [
    "train_data_matrix"
   ]
  },
  {
   "cell_type": "code",
   "execution_count": 18,
   "metadata": {
    "collapsed": true
   },
   "outputs": [],
   "source": [
    "test_rows, test_cols = test_data_matrix.nonzero()\n",
    "\n",
    "for i in range(test_rows.shape[0]):\n",
    "    test_data_matrix[test_rows[i], test_cols[i]] -= X_row_mean[test_rows[i]]\n"
   ]
  },
  {
   "cell_type": "markdown",
   "metadata": {},
   "source": [
    "## Collaborative Flitering(Memory based)\n",
    "\n",
    "There are two main parts of CF: User CF and Item CF. \n",
    "\n",
    "User CF: choose a specific user and based on the similarity of two users to recommend items(like: the person like these items also like that one)\n",
    "\n",
    "Item CF: Find the persons who like the same item and these persons other like items. Calculate the similarity base on that\n"
   ]
  },
  {
   "cell_type": "markdown",
   "metadata": {},
   "source": [
    "<img src = \"data/User_base_and_item_base.jpeg\" width = 800 >"
   ]
  },
  {
   "cell_type": "markdown",
   "metadata": {},
   "source": [
    "### compute user and item similarity\n"
   ]
  },
  {
   "cell_type": "code",
   "execution_count": 19,
   "metadata": {
    "collapsed": true
   },
   "outputs": [],
   "source": [
    "import sklearn"
   ]
  },
  {
   "cell_type": "markdown",
   "metadata": {},
   "source": [
    "##### The normal distance matrix in recommendation system we use the cosine similarity"
   ]
  },
  {
   "cell_type": "markdown",
   "metadata": {},
   "source": [
    "User similarity:"
   ]
  },
  {
   "cell_type": "markdown",
   "metadata": {},
   "source": [
    "$ S_{u}^{cosine}(U_{k},U_{a}) = \\frac{U_{k}*U_{a}}{|U_{k}| |U_{a}|} = \\frac{\\sum{X_{k,m} * X_{a,m}}}{\\sqrt{\\sum{X_{k}^{2}}\\sum{X^{2}_{a,m}}}} $"
   ]
  },
  {
   "cell_type": "markdown",
   "metadata": {},
   "source": [
    "$ S_{u}^{cosine}(I_{m},I_{b}) = \\frac{I_{m}*I_{b}}{|I_{m}| |I_{b}|} = \\frac{\\sum{X_{a,m} * X_{a,b}}}{\\sqrt{\\sum{X_{a,m}^{2}}\\sum{X^{2}_{a,b}}}} $"
   ]
  },
  {
   "cell_type": "code",
   "execution_count": 20,
   "metadata": {
    "collapsed": true
   },
   "outputs": [],
   "source": [
    "user_similarity = sklearn.metrics.pairwise_distances(train_data_matrix, metric = \"cosine\")\n",
    "\n",
    "item_similarity = sklearn.metrics.pairwise_distances(train_data_matrix.T, metric = \"cosine\")"
   ]
  },
  {
   "cell_type": "markdown",
   "metadata": {},
   "source": [
    "#### The shape of the user similarity matrix becomes 943 x 943 "
   ]
  },
  {
   "cell_type": "code",
   "execution_count": 21,
   "metadata": {},
   "outputs": [
    {
     "data": {
      "text/plain": [
       "(943, 943)"
      ]
     },
     "execution_count": 21,
     "metadata": {},
     "output_type": "execute_result"
    }
   ],
   "source": [
    "user_similarity.shape"
   ]
  },
  {
   "cell_type": "markdown",
   "metadata": {},
   "source": [
    "#### The shape of the item similarity matrix becomes 1682 x 1682"
   ]
  },
  {
   "cell_type": "code",
   "execution_count": 22,
   "metadata": {},
   "outputs": [
    {
     "data": {
      "text/plain": [
       "(1682, 1682)"
      ]
     },
     "execution_count": 22,
     "metadata": {},
     "output_type": "execute_result"
    }
   ],
   "source": [
    "item_similarity.shape"
   ]
  },
  {
   "cell_type": "markdown",
   "metadata": {},
   "source": [
    "### Prediction based on either user or items"
   ]
  },
  {
   "cell_type": "markdown",
   "metadata": {},
   "source": [
    "Prediction function is based on:\n",
    "    $x_{k,m} = \\overline{x_{k}} + \\frac{\\sum_{u_{a}}{sim_{u}(u_{k}, u_{a})(x_{a,m} - \\overline{x_{u_{a}}})}}{\\sum_{u_{a}}|sim_{u}(u_{k}, u_{a})|}$"
   ]
  },
  {
   "cell_type": "markdown",
   "metadata": {},
   "source": [
    "<img src = \"data/user_base.png\" width = 300>"
   ]
  },
  {
   "cell_type": "markdown",
   "metadata": {},
   "source": [
    "##### The intuition here is that not everyone rating standard is same. \n",
    "##### For example, if user A like a movie he might give the movie 5 stars and others 3 or 4. But some picky people rarely give 5 star to the movie. \n",
    "##### So the algorithm use the similarity as the weight to predict rating"
   ]
  },
  {
   "cell_type": "code",
   "execution_count": 23,
   "metadata": {},
   "outputs": [
    {
     "data": {
      "text/plain": [
       "943"
      ]
     },
     "execution_count": 23,
     "metadata": {},
     "output_type": "execute_result"
    }
   ],
   "source": [
    "len(train_data_matrix)"
   ]
  },
  {
   "cell_type": "code",
   "execution_count": 24,
   "metadata": {
    "collapsed": true
   },
   "outputs": [],
   "source": [
    "def c_mean(mat):\n",
    "    r = []\n",
    "    for i in range(len(mat)):\n",
    "        num = 0\n",
    "        a = 0\n",
    "        for n in mat[i]:\n",
    "            if n != 0:\n",
    "                a = a + n\n",
    "                num += 1\n",
    "        r.append(a/num)\n",
    "    return r"
   ]
  },
  {
   "cell_type": "code",
   "execution_count": 25,
   "metadata": {
    "collapsed": true
   },
   "outputs": [],
   "source": [
    "def predict(ratings, similarity, type='user'):\n",
    "        if type == 'user':\n",
    "            mean_user_rating = np.array(c_mean(ratings))\n",
    "            #You use np.newaxis so that mean_user_rating has same format as ratings\n",
    "            ratings_diff = (ratings - mean_user_rating[:, np.newaxis]) \n",
    "            pred = mean_user_rating[:, np.newaxis] + similarity.dot(ratings_diff) / np.array([np.abs(similarity).sum(axis=1)]).T\n",
    "        elif type == 'item':\n",
    "            pred = ratings.dot(similarity) / np.array([np.abs(similarity).sum(axis=1)])     \n",
    "        return pred"
   ]
  },
  {
   "cell_type": "code",
   "execution_count": 26,
   "metadata": {
    "collapsed": true
   },
   "outputs": [],
   "source": [
    "item_prediction = predict(train_data_matrix, item_similarity, type='item')\n",
    "user_prediction = predict(train_data_matrix, user_similarity, type='user')\n",
    "# user_prediction = predict(train_data_matrix, item_similarity, type='user')"
   ]
  },
  {
   "cell_type": "markdown",
   "metadata": {},
   "source": [
    "### Evaluation"
   ]
  },
  {
   "cell_type": "markdown",
   "metadata": {},
   "source": [
    "##### The most popular way to evaluate the model is using RMSE(root-mean-square error)"
   ]
  },
  {
   "cell_type": "markdown",
   "metadata": {},
   "source": [
    "$RMSE = \\sqrt{\\frac{1}{N}\\sum(x_{i} - \\hat{x_{i}})^{2}}$"
   ]
  },
  {
   "cell_type": "code",
   "execution_count": 27,
   "metadata": {
    "collapsed": true
   },
   "outputs": [],
   "source": [
    "from sklearn.metrics import mean_squared_error\n",
    "from math import sqrt"
   ]
  },
  {
   "cell_type": "code",
   "execution_count": 28,
   "metadata": {
    "collapsed": true
   },
   "outputs": [],
   "source": [
    "def rmse(prediction, ground_truth):\n",
    "    prediction = prediction[ground_truth.nonzero()].flatten()\n",
    "    ground_truth = ground_truth[ground_truth.nonzero()].flatten()\n",
    "    return sqrt(mean_squared_error(prediction, ground_truth))"
   ]
  },
  {
   "cell_type": "code",
   "execution_count": 29,
   "metadata": {},
   "outputs": [
    {
     "name": "stdout",
     "output_type": "stream",
     "text": [
      "User-based CF RMSE: 1.027055954299441\n",
      "Item-based CF RMSE: 1.0470707153756256\n"
     ]
    }
   ],
   "source": [
    "print ('User-based CF RMSE: ' + str(rmse(user_prediction, test_data_matrix)))\n",
    "print ('Item-based CF RMSE: ' + str(rmse(item_prediction, test_data_matrix)))"
   ]
  },
  {
   "cell_type": "markdown",
   "metadata": {},
   "source": [
    "#### Conclusion:\n",
    "Memory-based CF is easy to implement but the real problem is cold start, which means when the new users or data come"
   ]
  },
  {
   "cell_type": "markdown",
   "metadata": {},
   "source": [
    "### Collaborative flitering base on SVD"
   ]
  },
  {
   "cell_type": "markdown",
   "metadata": {},
   "source": [
    "##### Calculate the sparse level of the matrix"
   ]
  },
  {
   "cell_type": "code",
   "execution_count": 30,
   "metadata": {},
   "outputs": [
    {
     "name": "stdout",
     "output_type": "stream",
     "text": [
      "The sparsity level of the MovieLens 100K is 93.7%\n"
     ]
    }
   ],
   "source": [
    "sparsity = round(1.0 - len(df)/float(n_users*n_items),3)\n",
    "\n",
    "print('The sparsity level of the MovieLens 100K is ' + str(sparsity * 100) + '%')"
   ]
  },
  {
   "cell_type": "markdown",
   "metadata": {},
   "source": [
    "#### Use scipy svd"
   ]
  },
  {
   "cell_type": "code",
   "execution_count": 31,
   "metadata": {
    "collapsed": true
   },
   "outputs": [],
   "source": [
    "import scipy.sparse as sp\n",
    "from scipy.sparse.linalg import svds"
   ]
  },
  {
   "cell_type": "code",
   "execution_count": 32,
   "metadata": {
    "collapsed": true
   },
   "outputs": [],
   "source": [
    "U, s, Vt = svds(train_data_matrix, k = 10)"
   ]
  },
  {
   "cell_type": "code",
   "execution_count": 33,
   "metadata": {
    "collapsed": true
   },
   "outputs": [],
   "source": [
    "pred = U.dot(np.diag(s)).dot(Vt)"
   ]
  },
  {
   "cell_type": "code",
   "execution_count": 34,
   "metadata": {},
   "outputs": [
    {
     "data": {
      "text/plain": [
       "(943, 1682)"
      ]
     },
     "execution_count": 34,
     "metadata": {},
     "output_type": "execute_result"
    }
   ],
   "source": [
    "pred.shape"
   ]
  },
  {
   "cell_type": "code",
   "execution_count": 35,
   "metadata": {},
   "outputs": [
    {
     "name": "stdout",
     "output_type": "stream",
     "text": [
      "0.987662980391601\n"
     ]
    }
   ],
   "source": [
    "print(rmse(pred, test_data_matrix))"
   ]
  },
  {
   "cell_type": "code",
   "execution_count": 36,
   "metadata": {},
   "outputs": [
    {
     "data": {
      "text/plain": [
       "(943, 1682)"
      ]
     },
     "execution_count": 36,
     "metadata": {},
     "output_type": "execute_result"
    }
   ],
   "source": [
    "train_data_matrix.shape"
   ]
  },
  {
   "cell_type": "markdown",
   "metadata": {},
   "source": [
    "## Some Math notes"
   ]
  },
  {
   "cell_type": "markdown",
   "metadata": {},
   "source": [
    "### SVD Algorithm"
   ]
  },
  {
   "cell_type": "markdown",
   "metadata": {},
   "source": [
    "In linear algebra, the singular-value decomposition is a factorization of a real and complex matrix. "
   ]
  },
  {
   "cell_type": "markdown",
   "metadata": {},
   "source": [
    "##### Intuition of the SVD: Each operation of the matrix is rotation and streching"
   ]
  },
  {
   "cell_type": "markdown",
   "metadata": {},
   "source": [
    "### Example"
   ]
  },
  {
   "cell_type": "markdown",
   "metadata": {},
   "source": [
    "X = $\\begin{bmatrix}\n",
    "1\\\\\n",
    "3\n",
    "\\end{bmatrix}\n",
    "$\n",
    "and \n",
    "$\n",
    "A = \\begin{bmatrix}\n",
    "2 & 1\\\\\n",
    "-1 & 1\n",
    "\\end{bmatrix}\n",
    "$"
   ]
  },
  {
   "cell_type": "markdown",
   "metadata": {},
   "source": [
    "$\n",
    "Y = Ax = \n",
    "\\begin{bmatrix}\n",
    "2 & 1\\\\\n",
    "-1 & 1\n",
    "\\end{bmatrix}\n",
    "$\n",
    "$\n",
    "\\begin{bmatrix}\n",
    "1 \\\\\n",
    "3\n",
    "\\end{bmatrix}\n",
    "$\n",
    "= $\n",
    "\\begin{bmatrix}\n",
    "5 \\\\\n",
    "2\n",
    "\\end{bmatrix}\n",
    "$"
   ]
  },
  {
   "cell_type": "markdown",
   "metadata": {},
   "source": [
    "##### rotation function"
   ]
  },
  {
   "cell_type": "markdown",
   "metadata": {},
   "source": [
    "$A = \\begin{bmatrix}\n",
    "cos\\Theta & -sin\\Theta\\\\\n",
    "sin\\Theta & cos\\Theta\n",
    "\\end{bmatrix}\n",
    "$\n",
    "which is rotated by $\\Theta$"
   ]
  },
  {
   "cell_type": "markdown",
   "metadata": {},
   "source": [
    "##### Streching function"
   ]
  },
  {
   "cell_type": "markdown",
   "metadata": {},
   "source": [
    "$A = \\begin{bmatrix}\n",
    "\\alpha & 0\\\\\n",
    "0 & \\alpha\n",
    "\\end{bmatrix}$\n",
    "which $\\alpha$ = \"streching\""
   ]
  },
  {
   "cell_type": "markdown",
   "metadata": {},
   "source": [
    "##### General function:\n",
    "\n",
    "$AV = U\\sum$\n",
    "which $u$ is the unit matrix and $\\sum$ is streching matrix"
   ]
  },
  {
   "cell_type": "markdown",
   "metadata": {},
   "source": [
    "It is like a enignvalues function which is :\n",
    "$A\\overline{x} = \\lambda\\overline{x}$"
   ]
  },
  {
   "cell_type": "markdown",
   "metadata": {},
   "source": [
    "When both sides of the equation multiply by $V^{-1}$"
   ]
  },
  {
   "cell_type": "markdown",
   "metadata": {},
   "source": [
    "$A = U\\sum V^{-1}$"
   ]
  },
  {
   "cell_type": "markdown",
   "metadata": {},
   "source": [
    "And we let $V^{-1} = V^{*}$"
   ]
  },
  {
   "cell_type": "markdown",
   "metadata": {},
   "source": [
    "$A = U\\sum V^{*}$ which is the SVD function"
   ]
  },
  {
   "cell_type": "markdown",
   "metadata": {},
   "source": [
    "#### Solve this function"
   ]
  },
  {
   "cell_type": "markdown",
   "metadata": {},
   "source": [
    "$A^{T}A = (U\\sum V^{*})^{T}(U\\sum V^{*})$"
   ]
  },
  {
   "cell_type": "markdown",
   "metadata": {},
   "source": [
    "$= (V\\sum U^{*})(U\\sum V^{*})$"
   ]
  },
  {
   "cell_type": "markdown",
   "metadata": {},
   "source": [
    "$=V\\sum^{2}V^{*}$"
   ]
  },
  {
   "cell_type": "markdown",
   "metadata": {},
   "source": [
    "##### Final equation:\n",
    "$A^{T}AV = V\\sum^{2}V^{*}V$"
   ]
  },
  {
   "cell_type": "markdown",
   "metadata": {},
   "source": [
    "$A^{T}AV = V\\sum^{2}$ which is the enigvalue problem:"
   ]
  },
  {
   "cell_type": "markdown",
   "metadata": {},
   "source": [
    "$A^{T}A = A$\n"
   ]
  },
  {
   "cell_type": "markdown",
   "metadata": {},
   "source": [
    "$\\sum^{2}$ is $\\lambda$\n",
    "##### enignvector is: V"
   ]
  },
  {
   "cell_type": "markdown",
   "metadata": {},
   "source": [
    "#### To get U use the same way:\n",
    "The both side of equation right multyplied by $A^{T}$<br>\n",
    "which is $AA^{T} = (U\\sum V^{*})(U\\sum V^{*})^{T}$"
   ]
  },
  {
   "cell_type": "markdown",
   "metadata": {},
   "source": [
    "$AA^{T}U = U\\sum^{2}$"
   ]
  },
  {
   "cell_type": "markdown",
   "metadata": {},
   "source": [
    "### Solve eignvalues and eignvector problem"
   ]
  },
  {
   "cell_type": "markdown",
   "metadata": {},
   "source": [
    "##### Defination:\n",
    "Let $A$ be an $n*n$ matrix. A scalar $lambda$ is called an eigenvalue of $A$ if there is a nonzero vector $\\overline{x}$ such that $A\\overline{x} = \\lambda\\overline{x}$. So sunch a vector $\\overline{x}$ is called an eigenvector of $A$ corresponding to $\\lambda$"
   ]
  },
  {
   "cell_type": "markdown",
   "metadata": {},
   "source": [
    "### Example"
   ]
  },
  {
   "cell_type": "markdown",
   "metadata": {},
   "source": [
    "Show that $\\overline{x} = \\begin{bmatrix}\n",
    "3 & 2\\\\\n",
    "3 & -2\n",
    "\\end{bmatrix}\n",
    "$\n",
    "corresponding to \n",
    "$\\lambda$ = 4"
   ]
  },
  {
   "cell_type": "markdown",
   "metadata": {},
   "source": [
    "##### note:\n",
    "If $\\lambda$ is an eigenvalue of A, and $\\overline{x}$ is an eigenvector belonging to $\\lambda$,<br>\n",
    "any nonzero multiple of $\\overline{x}$ will be an eigenvector"
   ]
  },
  {
   "cell_type": "markdown",
   "metadata": {},
   "source": [
    "### Finding Eigenvalues and Eigenvector"
   ]
  },
  {
   "cell_type": "markdown",
   "metadata": {},
   "source": [
    "#### 2x2 matrix example "
   ]
  },
  {
   "cell_type": "markdown",
   "metadata": {},
   "source": [
    "The process: <br>\n",
    "To solve for the eigenvalues, $\\lambda_{i}$ and the corresponding eigenvectors, $\\overline{x_{i}}$, of an $n x n$ matrix $A$, do the following:<br>\n",
    "- Multiply an $n x n$ identity matrix by the scalar\n",
    "- subtract the identity matrix multiple from the matrix A\n",
    "- Find the determined of the matrix and the difference\n",
    "- solve for the values of $\\lambda$ that satisfy the equation: $det(A - \\lambda I) = \\overline{0}$\n",
    "- Solve for the corresponding vector to each $\\lambda$"
   ]
  },
  {
   "cell_type": "markdown",
   "metadata": {},
   "source": [
    "#### find the eigenvalues and eigenvectors of the matrix"
   ]
  },
  {
   "cell_type": "markdown",
   "metadata": {},
   "source": [
    "$A = \\begin{bmatrix}\n",
    "7 & 3\\\\\n",
    "3 & -1\n",
    "\\end{bmatrix}$"
   ]
  },
  {
   "cell_type": "markdown",
   "metadata": {},
   "source": [
    "1. $\\lambda I = \\lambda \\begin{bmatrix}\n",
    "1 & 0\\\\\n",
    "0 & 1\n",
    "\\end{bmatrix}\n",
    "$ = \n",
    "$\n",
    "\\begin{bmatrix}\n",
    "\\lambda & 0\\\\\n",
    "0 & \\lambda\n",
    "\\end{bmatrix}\n",
    "$"
   ]
  },
  {
   "cell_type": "markdown",
   "metadata": {},
   "source": [
    "2.  $A - \\lambda I = \\begin{bmatrix}\n",
    "7-\\lambda & 3\\\\\n",
    "3 & -1-\\lambda\n",
    "\\end{bmatrix}\n",
    "$"
   ]
  },
  {
   "cell_type": "markdown",
   "metadata": {},
   "source": [
    "Solve this equation we can get a $\\lambda$ = 8 which is the eigenvalue"
   ]
  },
  {
   "cell_type": "markdown",
   "metadata": {},
   "source": [
    "To find the corresponding eigenvector: <br>\n",
    "$A - \\lambda I$ = B<br>\n",
    "And let $B\\overline{x} = \\overline{0}$"
   ]
  },
  {
   "cell_type": "markdown",
   "metadata": {},
   "source": [
    "Solve the equation to get the eigenvector $\\overline{x}$"
   ]
  },
  {
   "cell_type": "markdown",
   "metadata": {
    "collapsed": true
   },
   "source": [
    "## Use gradient descent on SVD"
   ]
  },
  {
   "cell_type": "markdown",
   "metadata": {},
   "source": [
    "##### The lose function: "
   ]
  },
  {
   "cell_type": "markdown",
   "metadata": {},
   "source": [
    "<img src=\"data/min_function.png\" width = 300>"
   ]
  },
  {
   "cell_type": "markdown",
   "metadata": {
    "collapsed": true
   },
   "source": [
    "#### paramters update equations:"
   ]
  },
  {
   "cell_type": "markdown",
   "metadata": {},
   "source": [
    "<img src = \"data/parameters_update.png\" width = 300>"
   ]
  },
  {
   "cell_type": "code",
   "execution_count": 37,
   "metadata": {
    "collapsed": true
   },
   "outputs": [],
   "source": [
    "def svd(mat, k, steps = 100, gama = 0.005, lamda = 0.05):\n",
    "    slow_rate = 0.99\n",
    "    pre_rmse = 100000\n",
    "    now_rmse = 0\n",
    "    \n",
    "    user_feature = np.matrix(np.random.rand(mat.shape[0], k))\n",
    "    item_feature = np.matrix(np.random.rand(mat.shape[1], k))\n",
    "    \n",
    "    for step in range(steps):\n",
    "        rmse= 0\n",
    "        n = 0\n",
    "        \n",
    "        for u in range(mat.shape[0]):\n",
    "            for i in range(mat.shape[1]):\n",
    "                if mat[u, i] != 0:\n",
    "                    pui = float(np.dot(user_feature[u, :], item_feature[i, :].T))\n",
    "                    eui = mat[u, i] - pui\n",
    "                    rmse += pow(eui, 2)\n",
    "                    n += 1\n",
    "                    \n",
    "                    for feature in range(k):\n",
    "                        user_feature[u, feature] += gama*(eui*item_feature[i, feature] - lamda * user_feature[u, feature])\n",
    "                        item_feature[i, feature] += gama*(eui*user_feature[u, feature] - lamda*item_feature[i, feature])\n",
    "        now_rmse = sqrt(rmse * 1 / n)\n",
    "            \n",
    "        print('step: %d     rmse:%s'%((step+1), now_rmse))\n",
    "        \n",
    "        if(now_rmse < pre_rmse):\n",
    "            pre_rmse = now_rmse\n",
    "        else:\n",
    "            return (user_feature, item_feature)\n",
    "        \n",
    "        gama *= slow_rate\n",
    "        step += 1\n",
    "    return (user_feature, item_feature)"
   ]
  },
  {
   "cell_type": "code",
   "execution_count": 38,
   "metadata": {},
   "outputs": [
    {
     "name": "stdout",
     "output_type": "stream",
     "text": [
      "step: 1     rmse:1.1797715807583884\n",
      "step: 2     rmse:0.9893404561398755\n",
      "step: 3     rmse:0.9568807229016423\n",
      "step: 4     rmse:0.9424659917723014\n",
      "step: 5     rmse:0.9337479352174953\n",
      "step: 6     rmse:0.9277103404909421\n",
      "step: 7     rmse:0.9231302786650076\n",
      "step: 8     rmse:0.9194147845640608\n",
      "step: 9     rmse:0.9162406220123406\n",
      "step: 10     rmse:0.9134157511326682\n",
      "step: 11     rmse:0.9108181721959493\n",
      "step: 12     rmse:0.908366106265445\n",
      "step: 13     rmse:0.9060023214702246\n",
      "step: 14     rmse:0.9036854073528849\n",
      "step: 15     rmse:0.9013847043777204\n",
      "step: 16     rmse:0.8990772676459867\n",
      "step: 17     rmse:0.8967460132755763\n",
      "step: 18     rmse:0.8943785710908271\n",
      "step: 19     rmse:0.8919665594127542\n",
      "step: 20     rmse:0.8895051011946268\n",
      "step: 21     rmse:0.8869924605453142\n",
      "step: 22     rmse:0.8844297174629878\n",
      "step: 23     rmse:0.8818204278538286\n",
      "step: 24     rmse:0.8791702408751374\n",
      "step: 25     rmse:0.8764864677228152\n",
      "step: 26     rmse:0.8737776143196232\n",
      "step: 27     rmse:0.8710529031998615\n",
      "step: 28     rmse:0.8683218158183006\n",
      "step: 29     rmse:0.8655936853359562\n",
      "step: 30     rmse:0.8628773629387627\n",
      "step: 31     rmse:0.8601809703447449\n",
      "step: 32     rmse:0.8575117401338899\n",
      "step: 33     rmse:0.8548759362376989\n",
      "step: 34     rmse:0.8522788407376686\n",
      "step: 35     rmse:0.8497247903579347\n",
      "step: 36     rmse:0.8472172461844466\n",
      "step: 37     rmse:0.8447588822562712\n",
      "step: 38     rmse:0.8423516817560517\n",
      "step: 39     rmse:0.8399970327716829\n",
      "step: 40     rmse:0.8376958184928525\n",
      "step: 41     rmse:0.8354484990023148\n",
      "step: 42     rmse:0.8332551834779507\n",
      "step: 43     rmse:0.831115692713322\n",
      "step: 44     rmse:0.829029612511852\n",
      "step: 45     rmse:0.8269963388416751\n",
      "step: 46     rmse:0.8250151157609066\n",
      "step: 47     rmse:0.8230850671205251\n",
      "step: 48     rmse:0.8212052229809657\n",
      "step: 49     rmse:0.8193745415763141\n",
      "step: 50     rmse:0.8175919275488523\n",
      "step: 51     rmse:0.8158562470701122\n",
      "step: 52     rmse:0.8141663403666134\n",
      "step: 53     rmse:0.8125210320838686\n",
      "step: 54     rmse:0.8109191398490383\n",
      "step: 55     rmse:0.8093594813313624\n",
      "step: 56     rmse:0.8078408800484261\n",
      "step: 57     rmse:0.8063621701236683\n",
      "step: 58     rmse:0.8049222001655951\n",
      "step: 59     rmse:0.8035198364102782\n",
      "step: 60     rmse:0.8021539652449423\n",
      "step: 61     rmse:0.8008234952106491\n",
      "step: 62     rmse:0.7995273585661989\n",
      "step: 63     rmse:0.7982645124819437\n",
      "step: 64     rmse:0.7970339399211178\n",
      "step: 65     rmse:0.7958346502572394\n",
      "step: 66     rmse:0.7946656796687448\n",
      "step: 67     rmse:0.7935260913453647\n",
      "step: 68     rmse:0.7924149755359736\n",
      "step: 69     rmse:0.7913314494628955\n",
      "step: 70     rmse:0.7902746571241903\n",
      "step: 71     rmse:0.789243769002292\n",
      "step: 72     rmse:0.7882379816948674\n",
      "step: 73     rmse:0.7872565174813226\n",
      "step: 74     rmse:0.7862986238368189\n",
      "step: 75     rmse:0.7853635729038495\n",
      "step: 76     rmse:0.784450660930088\n",
      "step: 77     rmse:0.7835592076801349\n",
      "step: 78     rmse:0.7826885558276361\n",
      "step: 79     rmse:0.7818380703334671\n",
      "step: 80     rmse:0.7810071378148112\n",
      "step: 81     rmse:0.7801951659094183\n",
      "step: 82     rmse:0.7794015826386193\n",
      "step: 83     rmse:0.7786258357721355\n",
      "step: 84     rmse:0.7778673921974979\n",
      "step: 85     rmse:0.7771257372961158\n",
      "step: 86     rmse:0.7764003743280643\n",
      "step: 87     rmse:0.7756908238270981\n",
      "step: 88     rmse:0.7749966230071833\n",
      "step: 89     rmse:0.7743173251817083\n",
      "step: 90     rmse:0.7736524991961098\n",
      "step: 91     rmse:0.7730017288747723\n",
      "step: 92     rmse:0.7723646124824457\n",
      "step: 93     rmse:0.7717407622008634\n",
      "step: 94     rmse:0.7711298036205805\n",
      "step: 95     rmse:0.7705313752482219\n",
      "step: 96     rmse:0.7699451280292801\n",
      "step: 97     rmse:0.7693707248862978\n",
      "step: 98     rmse:0.7688078402724257\n",
      "step: 99     rmse:0.7682561597401713\n",
      "step: 100     rmse:0.7677153795250378\n"
     ]
    }
   ],
   "source": [
    "U, V = svd(train_matrix, k = 10)"
   ]
  },
  {
   "cell_type": "code",
   "execution_count": 39,
   "metadata": {
    "collapsed": true
   },
   "outputs": [],
   "source": [
    "pred = np.array(np.dot(U, V.T))"
   ]
  },
  {
   "cell_type": "code",
   "execution_count": 40,
   "metadata": {},
   "outputs": [
    {
     "name": "stdout",
     "output_type": "stream",
     "text": [
      "rmse on test data matrix: 0.937603072064178\n"
     ]
    }
   ],
   "source": [
    "print(\"rmse on test data matrix: \" + str(rmse(pred, test_matrix)))"
   ]
  },
  {
   "cell_type": "code",
   "execution_count": null,
   "metadata": {
    "collapsed": true
   },
   "outputs": [],
   "source": []
  }
 ],
 "metadata": {
  "kernelspec": {
   "display_name": "Python [conda env:py3.6]",
   "language": "python",
   "name": "conda-env-py3.6-py"
  },
  "language_info": {
   "codemirror_mode": {
    "name": "ipython",
    "version": 3
   },
   "file_extension": ".py",
   "mimetype": "text/x-python",
   "name": "python",
   "nbconvert_exporter": "python",
   "pygments_lexer": "ipython3",
   "version": "3.6.2"
  }
 },
 "nbformat": 4,
 "nbformat_minor": 2
}
