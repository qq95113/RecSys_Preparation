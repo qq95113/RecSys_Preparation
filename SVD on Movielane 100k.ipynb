{
 "cells": [
  {
   "cell_type": "markdown",
   "metadata": {},
   "source": [
    "# User CF + Item CF + SVD"
   ]
  },
  {
   "cell_type": "code",
   "execution_count": 165,
   "metadata": {
    "collapsed": true
   },
   "outputs": [],
   "source": [
    "import pandas as pd\n",
    "import os"
   ]
  },
  {
   "cell_type": "markdown",
   "metadata": {},
   "source": [
    "### Import data\n",
    "The file \"u.data\" which contains the full dataset.\n",
    "- 100,000 rating(1-5) from 943 users on 1682 movies\n",
    "- Each user has rated at least 20 movies"
   ]
  },
  {
   "cell_type": "code",
   "execution_count": 166,
   "metadata": {
    "collapsed": true
   },
   "outputs": [],
   "source": [
    "data_dir = os.path.join('data', 'ml-100k')"
   ]
  },
  {
   "cell_type": "code",
   "execution_count": 167,
   "metadata": {},
   "outputs": [
    {
     "data": {
      "text/plain": [
       "'data/ml-100k'"
      ]
     },
     "execution_count": 167,
     "metadata": {},
     "output_type": "execute_result"
    }
   ],
   "source": [
    "data_dir"
   ]
  },
  {
   "cell_type": "code",
   "execution_count": 168,
   "metadata": {
    "collapsed": true
   },
   "outputs": [],
   "source": [
    "file_name = os.path.join(data_dir, 'u.data')\n",
    "\n",
    "df = pd.read_csv(file_name, sep='\\t', header = -1)"
   ]
  },
  {
   "cell_type": "markdown",
   "metadata": {},
   "source": [
    "### full u dataset\n",
    "- user id || item id || rating || timestape\n",
    "\n",
    "Give the columns name to the dataset"
   ]
  },
  {
   "cell_type": "code",
   "execution_count": 25,
   "metadata": {
    "collapsed": true
   },
   "outputs": [],
   "source": [
    "df.columns = ['user_id', 'item_id', 'rating', 'itemstape']"
   ]
  },
  {
   "cell_type": "code",
   "execution_count": 26,
   "metadata": {},
   "outputs": [
    {
     "data": {
      "text/html": [
       "<div>\n",
       "<style scoped>\n",
       "    .dataframe tbody tr th:only-of-type {\n",
       "        vertical-align: middle;\n",
       "    }\n",
       "\n",
       "    .dataframe tbody tr th {\n",
       "        vertical-align: top;\n",
       "    }\n",
       "\n",
       "    .dataframe thead th {\n",
       "        text-align: right;\n",
       "    }\n",
       "</style>\n",
       "<table border=\"1\" class=\"dataframe\">\n",
       "  <thead>\n",
       "    <tr style=\"text-align: right;\">\n",
       "      <th></th>\n",
       "      <th>user_id</th>\n",
       "      <th>item_id</th>\n",
       "      <th>rating</th>\n",
       "      <th>itemstape</th>\n",
       "    </tr>\n",
       "  </thead>\n",
       "  <tbody>\n",
       "    <tr>\n",
       "      <th>0</th>\n",
       "      <td>196</td>\n",
       "      <td>242</td>\n",
       "      <td>3</td>\n",
       "      <td>881250949</td>\n",
       "    </tr>\n",
       "    <tr>\n",
       "      <th>1</th>\n",
       "      <td>186</td>\n",
       "      <td>302</td>\n",
       "      <td>3</td>\n",
       "      <td>891717742</td>\n",
       "    </tr>\n",
       "    <tr>\n",
       "      <th>2</th>\n",
       "      <td>22</td>\n",
       "      <td>377</td>\n",
       "      <td>1</td>\n",
       "      <td>878887116</td>\n",
       "    </tr>\n",
       "    <tr>\n",
       "      <th>3</th>\n",
       "      <td>244</td>\n",
       "      <td>51</td>\n",
       "      <td>2</td>\n",
       "      <td>880606923</td>\n",
       "    </tr>\n",
       "    <tr>\n",
       "      <th>4</th>\n",
       "      <td>166</td>\n",
       "      <td>346</td>\n",
       "      <td>1</td>\n",
       "      <td>886397596</td>\n",
       "    </tr>\n",
       "  </tbody>\n",
       "</table>\n",
       "</div>"
      ],
      "text/plain": [
       "   user_id  item_id  rating  itemstape\n",
       "0      196      242       3  881250949\n",
       "1      186      302       3  891717742\n",
       "2       22      377       1  878887116\n",
       "3      244       51       2  880606923\n",
       "4      166      346       1  886397596"
      ]
     },
     "execution_count": 26,
     "metadata": {},
     "output_type": "execute_result"
    }
   ],
   "source": [
    "df.head()"
   ]
  },
  {
   "cell_type": "markdown",
   "metadata": {},
   "source": [
    "### Split dataset(train 25%, test 75%) "
   ]
  },
  {
   "cell_type": "code",
   "execution_count": 80,
   "metadata": {
    "collapsed": true
   },
   "outputs": [],
   "source": [
    "from sklearn.model_selection import train_test_split\n",
    "\n",
    "train_data, test_data = train_test_split(df, test_size = 0.1)"
   ]
  },
  {
   "cell_type": "markdown",
   "metadata": {},
   "source": [
    "### Rebuild the matrix(n x m) which n is number of users and m is the number of movies"
   ]
  },
  {
   "cell_type": "code",
   "execution_count": 81,
   "metadata": {},
   "outputs": [
    {
     "name": "stdout",
     "output_type": "stream",
     "text": [
      "Number of users = 943| number of movies = 1682\n"
     ]
    }
   ],
   "source": [
    "n_users = df.user_id.unique().shape[0]\n",
    "\n",
    "n_items = df.item_id.unique().shape[0]\n",
    "\n",
    "print('Number of users = ' + str(n_users) + '| number of movies = '+ str(n_items))"
   ]
  },
  {
   "cell_type": "markdown",
   "metadata": {},
   "source": [
    "### Create two user-item matrix, one for training and another for testing"
   ]
  },
  {
   "cell_type": "markdown",
   "metadata": {},
   "source": [
    "### Training dataset"
   ]
  },
  {
   "cell_type": "code",
   "execution_count": 82,
   "metadata": {},
   "outputs": [
    {
     "data": {
      "text/plain": [
       "(943, 1682)"
      ]
     },
     "execution_count": 82,
     "metadata": {},
     "output_type": "execute_result"
    }
   ],
   "source": [
    "import numpy as np\n",
    "\n",
    "train_data_matrix = np.zeros((n_users, n_items))\n",
    "\n",
    "train_data_matrix.shape"
   ]
  },
  {
   "cell_type": "markdown",
   "metadata": {},
   "source": [
    "### Testing dataset"
   ]
  },
  {
   "cell_type": "code",
   "execution_count": 83,
   "metadata": {
    "collapsed": true
   },
   "outputs": [],
   "source": [
    "test_data_matrix = np.zeros((n_users, n_items))"
   ]
  },
  {
   "cell_type": "code",
   "execution_count": 84,
   "metadata": {},
   "outputs": [
    {
     "data": {
      "text/html": [
       "<div>\n",
       "<style scoped>\n",
       "    .dataframe tbody tr th:only-of-type {\n",
       "        vertical-align: middle;\n",
       "    }\n",
       "\n",
       "    .dataframe tbody tr th {\n",
       "        vertical-align: top;\n",
       "    }\n",
       "\n",
       "    .dataframe thead th {\n",
       "        text-align: right;\n",
       "    }\n",
       "</style>\n",
       "<table border=\"1\" class=\"dataframe\">\n",
       "  <thead>\n",
       "    <tr style=\"text-align: right;\">\n",
       "      <th></th>\n",
       "      <th>user_id</th>\n",
       "      <th>item_id</th>\n",
       "      <th>rating</th>\n",
       "      <th>itemstape</th>\n",
       "    </tr>\n",
       "  </thead>\n",
       "  <tbody>\n",
       "    <tr>\n",
       "      <th>73607</th>\n",
       "      <td>709</td>\n",
       "      <td>402</td>\n",
       "      <td>3</td>\n",
       "      <td>879849185</td>\n",
       "    </tr>\n",
       "    <tr>\n",
       "      <th>3683</th>\n",
       "      <td>59</td>\n",
       "      <td>405</td>\n",
       "      <td>3</td>\n",
       "      <td>888203578</td>\n",
       "    </tr>\n",
       "    <tr>\n",
       "      <th>73508</th>\n",
       "      <td>721</td>\n",
       "      <td>582</td>\n",
       "      <td>3</td>\n",
       "      <td>877140490</td>\n",
       "    </tr>\n",
       "    <tr>\n",
       "      <th>69129</th>\n",
       "      <td>711</td>\n",
       "      <td>134</td>\n",
       "      <td>5</td>\n",
       "      <td>876278804</td>\n",
       "    </tr>\n",
       "    <tr>\n",
       "      <th>24108</th>\n",
       "      <td>20</td>\n",
       "      <td>181</td>\n",
       "      <td>4</td>\n",
       "      <td>879667904</td>\n",
       "    </tr>\n",
       "  </tbody>\n",
       "</table>\n",
       "</div>"
      ],
      "text/plain": [
       "       user_id  item_id  rating  itemstape\n",
       "73607      709      402       3  879849185\n",
       "3683        59      405       3  888203578\n",
       "73508      721      582       3  877140490\n",
       "69129      711      134       5  876278804\n",
       "24108       20      181       4  879667904"
      ]
     },
     "execution_count": 84,
     "metadata": {},
     "output_type": "execute_result"
    }
   ],
   "source": [
    "train_data.head()"
   ]
  },
  {
   "cell_type": "markdown",
   "metadata": {},
   "source": [
    "### insert the data into the train data matrix and test data matrix\n",
    "\n",
    "Becuase user_id and item_id are start from 1, so the value in the matrix should be decread by 1"
   ]
  },
  {
   "cell_type": "code",
   "execution_count": 85,
   "metadata": {
    "collapsed": true
   },
   "outputs": [],
   "source": [
    "for line in train_data.itertuples():\n",
    "    train_data_matrix[line[1] - 1, line[2] - 1] = line[3]\n",
    "\n",
    "for line in test_data.itertuples():\n",
    "    test_data_matrix[line[1] - 1, line[2] - 1] = line[3]"
   ]
  },
  {
   "cell_type": "markdown",
   "metadata": {},
   "source": [
    "## Collaborative Flitering(Memory based)\n",
    "\n",
    "There are two main parts of CF: User CF and Item CF. \n",
    "\n",
    "User CF: choose a specific user and based on the similarity of two users to recommend items(like: the person like these items also like that one)\n",
    "\n",
    "Item CF: Find the persons who like the same item and these persons other like items. Calculate the similarity base on that\n"
   ]
  },
  {
   "cell_type": "markdown",
   "metadata": {},
   "source": [
    "![title](data/User_base_and_item_base.jpeg)"
   ]
  },
  {
   "cell_type": "markdown",
   "metadata": {},
   "source": [
    "### compute user and item similarity\n"
   ]
  },
  {
   "cell_type": "code",
   "execution_count": 86,
   "metadata": {
    "collapsed": true
   },
   "outputs": [],
   "source": [
    "import sklearn"
   ]
  },
  {
   "cell_type": "markdown",
   "metadata": {},
   "source": [
    "##### The normal distance matrix in recommendation system we use the cosine similarity"
   ]
  },
  {
   "cell_type": "markdown",
   "metadata": {},
   "source": [
    "User similarity:"
   ]
  },
  {
   "cell_type": "markdown",
   "metadata": {},
   "source": [
    "$ S_{u}^{cosine}(U_{k},U_{a}) = \\frac{U_{k}*U_{a}}{|U_{k}| |U_{a}|} = \\frac{\\sum{X_{k,m} * X_{a,m}}}{\\sqrt{\\sum{X_{k}^{2}}\\sum{X^{2}_{a,m}}}} $"
   ]
  },
  {
   "cell_type": "markdown",
   "metadata": {},
   "source": [
    "$ S_{u}^{cosine}(I_{m},I_{b}) = \\frac{I_{m}*I_{b}}{|I_{m}| |I_{b}|} = \\frac{\\sum{X_{a,m} * X_{a,b}}}{\\sqrt{\\sum{X_{a,m}^{2}}\\sum{X^{2}_{a,b}}}} $"
   ]
  },
  {
   "cell_type": "code",
   "execution_count": 87,
   "metadata": {
    "collapsed": true
   },
   "outputs": [],
   "source": [
    "user_similarity = sklearn.metrics.pairwise_distances(train_data_matrix, metric = \"cosine\")\n",
    "\n",
    "item_similarity = sklearn.metrics.pairwise_distances(train_data_matrix.T, metric = \"cosine\")"
   ]
  },
  {
   "cell_type": "markdown",
   "metadata": {},
   "source": [
    "#### The shape of the user similarity matrix becomes 943 x 943 "
   ]
  },
  {
   "cell_type": "code",
   "execution_count": 88,
   "metadata": {},
   "outputs": [
    {
     "data": {
      "text/plain": [
       "(943, 943)"
      ]
     },
     "execution_count": 88,
     "metadata": {},
     "output_type": "execute_result"
    }
   ],
   "source": [
    "user_similarity.shape"
   ]
  },
  {
   "cell_type": "markdown",
   "metadata": {},
   "source": [
    "#### The shape of the item similarity matrix becomes 1682 x 1682"
   ]
  },
  {
   "cell_type": "code",
   "execution_count": 89,
   "metadata": {},
   "outputs": [
    {
     "data": {
      "text/plain": [
       "(1682, 1682)"
      ]
     },
     "execution_count": 89,
     "metadata": {},
     "output_type": "execute_result"
    }
   ],
   "source": [
    "item_similarity.shape"
   ]
  },
  {
   "cell_type": "markdown",
   "metadata": {},
   "source": [
    "### Prediction based on either user or items"
   ]
  },
  {
   "cell_type": "markdown",
   "metadata": {},
   "source": [
    "Prediction function is based on:\n",
    "    $x_{k,m} = \\overline{x_{k}} + \\frac{\\sum_{u_{a}}{sim_{u}(u_{k}, u_{a})(x_{a,m} - \\overline{x_{u_{a}}})}}{\\sum_{u_{a}}|sim_{u}(u_{k}, u_{a})|}$"
   ]
  },
  {
   "cell_type": "markdown",
   "metadata": {},
   "source": [
    "![title](data/user_base.png)"
   ]
  },
  {
   "cell_type": "markdown",
   "metadata": {},
   "source": [
    "##### The intuition here is that not everyone rating standard is same. \n",
    "##### For example, if user A like a movie he might give the movie 5 stars and others 3 or 4. But some picky people rarely give 5 star to the movie. \n",
    "##### So the algorithm use the similarity as the weight to predict rating"
   ]
  },
  {
   "cell_type": "code",
   "execution_count": 108,
   "metadata": {},
   "outputs": [
    {
     "data": {
      "text/plain": [
       "3.60082304526749"
      ]
     },
     "execution_count": 108,
     "metadata": {},
     "output_type": "execute_result"
    }
   ],
   "source": [
    "a = 0\n",
    "n = 0\n",
    "for i in train_data_matrix[0]:\n",
    "    if i != 0:\n",
    "        a = a + i\n",
    "        n += 1\n",
    "a / n"
   ]
  },
  {
   "cell_type": "code",
   "execution_count": 119,
   "metadata": {},
   "outputs": [
    {
     "data": {
      "text/plain": [
       "(943, 1682)"
      ]
     },
     "execution_count": 119,
     "metadata": {},
     "output_type": "execute_result"
    }
   ],
   "source": [
    "train_data_matrix.shape"
   ]
  },
  {
   "cell_type": "code",
   "execution_count": 120,
   "metadata": {},
   "outputs": [
    {
     "data": {
      "text/plain": [
       "943"
      ]
     },
     "execution_count": 120,
     "metadata": {},
     "output_type": "execute_result"
    }
   ],
   "source": [
    "len(train_data_matrix)"
   ]
  },
  {
   "cell_type": "code",
   "execution_count": 126,
   "metadata": {
    "collapsed": true
   },
   "outputs": [],
   "source": [
    "def c_mean(mat):\n",
    "    r = []\n",
    "    for i in range(len(mat)):\n",
    "        num = 0\n",
    "        a = 0\n",
    "        for n in mat[i]:\n",
    "            if n != 0:\n",
    "                a = a + n\n",
    "                num += 1\n",
    "        r.append(a/num)\n",
    "    return r"
   ]
  },
  {
   "cell_type": "code",
   "execution_count": 134,
   "metadata": {
    "collapsed": true
   },
   "outputs": [],
   "source": [
    "def predict(ratings, similarity, type='user'):\n",
    "        if type == 'user':\n",
    "            mean_user_rating = np.array(c_mean(ratings))\n",
    "            #You use np.newaxis so that mean_user_rating has same format as ratings\n",
    "            ratings_diff = (ratings - mean_user_rating[:, np.newaxis]) \n",
    "            pred = mean_user_rating[:, np.newaxis] + similarity.dot(ratings_diff) / np.array([np.abs(similarity).sum(axis=1)]).T\n",
    "        elif type == 'item':\n",
    "            pred = ratings.dot(similarity) / np.array([np.abs(similarity).sum(axis=1)])     \n",
    "        return pred"
   ]
  },
  {
   "cell_type": "code",
   "execution_count": 135,
   "metadata": {},
   "outputs": [],
   "source": [
    "item_prediction = predict(train_data_matrix, item_similarity, type='item')\n",
    "user_prediction = predict(train_data_matrix, user_similarity, type='user')\n",
    "# user_prediction = predict(train_data_matrix, item_similarity, type='user')"
   ]
  },
  {
   "cell_type": "markdown",
   "metadata": {},
   "source": [
    "### Evaluation"
   ]
  },
  {
   "cell_type": "markdown",
   "metadata": {},
   "source": [
    "##### The most popular way to evaluate the model is using RMSE(root-mean-square error)"
   ]
  },
  {
   "cell_type": "markdown",
   "metadata": {},
   "source": [
    "$RMSE = \\sqrt{\\frac{1}{N}\\sum(x_{i} - \\hat{x_{i}})^{2}}$"
   ]
  },
  {
   "cell_type": "code",
   "execution_count": 136,
   "metadata": {
    "collapsed": true
   },
   "outputs": [],
   "source": [
    "from sklearn.metrics import mean_squared_error\n",
    "from math import sqrt"
   ]
  },
  {
   "cell_type": "code",
   "execution_count": 137,
   "metadata": {
    "collapsed": true
   },
   "outputs": [],
   "source": [
    "def rmse(prediction, ground_truth):\n",
    "    prediction = prediction[ground_truth.nonzero()].flatten()\n",
    "    ground_truth = ground_truth[ground_truth.nonzero()].flatten()\n",
    "    return sqrt(mean_squared_error(prediction, ground_truth))"
   ]
  },
  {
   "cell_type": "code",
   "execution_count": 138,
   "metadata": {},
   "outputs": [
    {
     "name": "stdout",
     "output_type": "stream",
     "text": [
      "User-based CF RMSE: 3.2063910213408042\n",
      "Item-based CF RMSE: 3.4038842195708194\n"
     ]
    }
   ],
   "source": [
    "print ('User-based CF RMSE: ' + str(rmse(user_prediction, test_data_matrix)))\n",
    "print ('Item-based CF RMSE: ' + str(rmse(item_prediction, test_data_matrix)))"
   ]
  },
  {
   "cell_type": "markdown",
   "metadata": {},
   "source": [
    "#### Conclusion:\n",
    "Memory-based CF is easy to implement but the real problem is cold start, which means when the new users or data come"
   ]
  },
  {
   "cell_type": "markdown",
   "metadata": {},
   "source": [
    "### Collabrative flitering base on SVD"
   ]
  },
  {
   "cell_type": "markdown",
   "metadata": {},
   "source": [
    "##### Calculate the sparse level of the matrix"
   ]
  },
  {
   "cell_type": "code",
   "execution_count": 95,
   "metadata": {},
   "outputs": [
    {
     "name": "stdout",
     "output_type": "stream",
     "text": [
      "The sparsity level of the MovieLens 100K is 93.7%\n"
     ]
    }
   ],
   "source": [
    "sparsity = round(1.0 - len(df)/float(n_users*n_items),3)\n",
    "\n",
    "print('The sparsity level of the MovieLens 100K is ' + str(sparsity * 100) + '%')"
   ]
  },
  {
   "cell_type": "markdown",
   "metadata": {},
   "source": [
    "#### Use scipy svd"
   ]
  },
  {
   "cell_type": "code",
   "execution_count": 96,
   "metadata": {
    "collapsed": true
   },
   "outputs": [],
   "source": [
    "import scipy.sparse as sp\n",
    "from scipy.sparse.linalg import svds"
   ]
  },
  {
   "cell_type": "code",
   "execution_count": 216,
   "metadata": {
    "collapsed": true
   },
   "outputs": [],
   "source": [
    "u, s, vt = svds(train_data_matrix, k = 200)"
   ]
  },
  {
   "cell_type": "code",
   "execution_count": 217,
   "metadata": {},
   "outputs": [
    {
     "data": {
      "text/plain": [
       "(943, 200)"
      ]
     },
     "execution_count": 217,
     "metadata": {},
     "output_type": "execute_result"
    }
   ],
   "source": [
    "u.shape"
   ]
  },
  {
   "cell_type": "code",
   "execution_count": 218,
   "metadata": {},
   "outputs": [
    {
     "data": {
      "text/plain": [
       "(200, 1682)"
      ]
     },
     "execution_count": 218,
     "metadata": {},
     "output_type": "execute_result"
    }
   ],
   "source": [
    "vt.shape "
   ]
  },
  {
   "cell_type": "code",
   "execution_count": 219,
   "metadata": {
    "collapsed": true
   },
   "outputs": [],
   "source": [
    "s_diag_matrix = np.diag(s)"
   ]
  },
  {
   "cell_type": "code",
   "execution_count": 220,
   "metadata": {},
   "outputs": [],
   "source": [
    "X_pred = np.dot(u,vt)"
   ]
  },
  {
   "cell_type": "code",
   "execution_count": 221,
   "metadata": {},
   "outputs": [
    {
     "name": "stdout",
     "output_type": "stream",
     "text": [
      "User-based CF RMSE: 3.710126967168523\n"
     ]
    }
   ],
   "source": [
    "print('User-based CF RMSE: ' + str(rmse(X_pred, test_data_matrix)))"
   ]
  },
  {
   "cell_type": "markdown",
   "metadata": {},
   "source": [
    "## Some Math notes"
   ]
  },
  {
   "cell_type": "markdown",
   "metadata": {},
   "source": [
    "### SVD Algorithm"
   ]
  },
  {
   "cell_type": "markdown",
   "metadata": {},
   "source": [
    "In linear algebra, the singular-value decomposition is a factorization of a real and complex matrix. "
   ]
  },
  {
   "cell_type": "markdown",
   "metadata": {},
   "source": [
    "##### Intuition of the SVD: Each operation of the matrix is rotation and streching"
   ]
  },
  {
   "cell_type": "markdown",
   "metadata": {},
   "source": [
    "### Example"
   ]
  },
  {
   "cell_type": "markdown",
   "metadata": {},
   "source": [
    "X = $\\begin{bmatrix}\n",
    "1\\\\\n",
    "3\n",
    "\\end{bmatrix}\n",
    "$\n",
    "and \n",
    "$\n",
    "A = \\begin{bmatrix}\n",
    "2 & 1\\\\\n",
    "-1 & 1\n",
    "\\end{bmatrix}\n",
    "$"
   ]
  },
  {
   "cell_type": "markdown",
   "metadata": {},
   "source": [
    "$\n",
    "Y = Ax = \n",
    "\\begin{bmatrix}\n",
    "2 & 1\\\\\n",
    "-1 & 1\n",
    "\\end{bmatrix}\n",
    "$\n",
    "$\n",
    "\\begin{bmatrix}\n",
    "1 \\\\\n",
    "3\n",
    "\\end{bmatrix}\n",
    "$\n",
    "= $\n",
    "\\begin{bmatrix}\n",
    "5 \\\\\n",
    "2\n",
    "\\end{bmatrix}\n",
    "$"
   ]
  },
  {
   "cell_type": "markdown",
   "metadata": {},
   "source": [
    "##### rotation function"
   ]
  },
  {
   "cell_type": "markdown",
   "metadata": {},
   "source": [
    "$A = \\begin{bmatrix}\n",
    "cos\\Theta & -sin\\Theta\\\\\n",
    "sin\\Theta & cos\\Theta\n",
    "\\end{bmatrix}\n",
    "$\n",
    "which is rotated by $\\Theta$"
   ]
  },
  {
   "cell_type": "markdown",
   "metadata": {},
   "source": [
    "##### Streching function"
   ]
  },
  {
   "cell_type": "markdown",
   "metadata": {},
   "source": [
    "$A = \\begin{bmatrix}\n",
    "\\alpha & 0\\\\\n",
    "0 & \\alpha\n",
    "\\end{bmatrix}$\n",
    "which $\\alpha$ = \"streching\""
   ]
  },
  {
   "cell_type": "markdown",
   "metadata": {},
   "source": [
    "##### General function:\n",
    "\n",
    "$AV = U\\sum$\n",
    "which $u$ is the unit matrix and $\\sum$ is streching matrix"
   ]
  },
  {
   "cell_type": "markdown",
   "metadata": {},
   "source": [
    "It is like a enignvalues function which is :\n",
    "$A\\overline{x} = \\lambda\\overline{x}$"
   ]
  },
  {
   "cell_type": "markdown",
   "metadata": {},
   "source": [
    "When both sides of the equation multiply by $V^{-1}$"
   ]
  },
  {
   "cell_type": "markdown",
   "metadata": {},
   "source": [
    "$A = U\\sum V^{-1}$"
   ]
  },
  {
   "cell_type": "markdown",
   "metadata": {},
   "source": [
    "And we let $V^{-1} = V^{*}$"
   ]
  },
  {
   "cell_type": "markdown",
   "metadata": {},
   "source": [
    "$A = U\\sum V^{*}$ which is the SVD function"
   ]
  },
  {
   "cell_type": "markdown",
   "metadata": {},
   "source": [
    "#### Solve this function"
   ]
  },
  {
   "cell_type": "markdown",
   "metadata": {},
   "source": [
    "$A^{T}A = (U\\sum V^{*})^{T}(U\\sum V^{*})$"
   ]
  },
  {
   "cell_type": "markdown",
   "metadata": {},
   "source": [
    "$= (V\\sum U^{*})(U\\sum V^{*})$"
   ]
  },
  {
   "cell_type": "markdown",
   "metadata": {},
   "source": [
    "$=V\\sum^{2}V^{*}$"
   ]
  },
  {
   "cell_type": "markdown",
   "metadata": {},
   "source": [
    "##### Final equation:\n",
    "$A^{T}AV = V\\sum^{2}V^{*}V$"
   ]
  },
  {
   "cell_type": "markdown",
   "metadata": {},
   "source": [
    "$A^{T}AV = V\\sum^{2}$ which is the enigvalue problem:"
   ]
  },
  {
   "cell_type": "markdown",
   "metadata": {},
   "source": [
    "$A^{T}A = A$\n"
   ]
  },
  {
   "cell_type": "markdown",
   "metadata": {},
   "source": [
    "$\\sum^{2}$ is $\\lambda$\n",
    "##### enignvector is: V"
   ]
  },
  {
   "cell_type": "markdown",
   "metadata": {},
   "source": [
    "#### To get U use the same way:\n",
    "The both side of equation right multyplied by $A^{T}$<br>\n",
    "which is $AA^{T} = (U\\sum V^{*})(U\\sum V^{*})^{T}$"
   ]
  },
  {
   "cell_type": "markdown",
   "metadata": {},
   "source": [
    "$AA^{T}U = U\\sum^{2}$"
   ]
  },
  {
   "cell_type": "markdown",
   "metadata": {},
   "source": [
    "### Solve eignvalues and eignvector problem"
   ]
  },
  {
   "cell_type": "markdown",
   "metadata": {},
   "source": [
    "##### Defination:\n",
    "Let $A$ be an $n*n$ matrix. A scalar $lambda$ is called an eigenvalue of $A$ if there is a nonzero vector $\\overline{x}$ such that $A\\overline{x} = \\lambda\\overline{x}$. So sunch a vector $\\overline{x}$ is called an eigenvector of $A$ corresponding to $\\lambda$"
   ]
  },
  {
   "cell_type": "markdown",
   "metadata": {},
   "source": [
    "### Example"
   ]
  },
  {
   "cell_type": "markdown",
   "metadata": {},
   "source": [
    "Show that $\\overline{x} = \\begin{bmatrix}\n",
    "3 & 2\\\\\n",
    "3 & -2\n",
    "\\end{bmatrix}\n",
    "$\n",
    "corresponding to \n",
    "$\\lambda$ = 4"
   ]
  },
  {
   "cell_type": "markdown",
   "metadata": {},
   "source": [
    "##### note:\n",
    "If $\\lambda$ is an eigenvalue of A, and $\\overline{x}$ is an eigenvector belonging to $\\lambda$,<br>\n",
    "any nonzero multiple of $\\overline{x}$ will be an eigenvector"
   ]
  },
  {
   "cell_type": "markdown",
   "metadata": {},
   "source": [
    "### Finding Eigenvalues and Eigenvector"
   ]
  },
  {
   "cell_type": "markdown",
   "metadata": {},
   "source": [
    "#### 2x2 matrix example "
   ]
  },
  {
   "cell_type": "markdown",
   "metadata": {},
   "source": [
    "The process: <br>\n",
    "To solve for the eigenvalues, $\\lambda_{i}$ and the corresponding eigenvectors, $\\overline{x_{i}}$, of an $n x n$ matrix $A$, do the following:<br>\n",
    "- Multiply an $n x n$ identity matrix by the scalar\n",
    "- subtract the identity matrix multiple from the matrix A\n",
    "- Find the determined of the matrix and the difference\n",
    "- solve for the values of $\\lambda$ that satisfy the equation: $det(A - \\lambda I) = \\overline{0}$\n",
    "- Solve for the corresponding vector to each $\\lambda$"
   ]
  },
  {
   "cell_type": "markdown",
   "metadata": {},
   "source": [
    "#### find the eigenvalues and eigenvectors of the matrix"
   ]
  },
  {
   "cell_type": "markdown",
   "metadata": {},
   "source": [
    "$A = \\begin{bmatrix}\n",
    "7 & 3\\\\\n",
    "3 & -1\n",
    "\\end{bmatrix}$"
   ]
  },
  {
   "cell_type": "markdown",
   "metadata": {},
   "source": [
    "1. $\\lambda I = \\lambda \\begin{bmatrix}\n",
    "1 & 0\\\\\n",
    "0 & 1\n",
    "\\end{bmatrix}\n",
    "$ = \n",
    "$\n",
    "\\begin{bmatrix}\n",
    "\\lambda & 0\\\\\n",
    "0 & \\lambda\n",
    "\\end{bmatrix}\n",
    "$"
   ]
  },
  {
   "cell_type": "markdown",
   "metadata": {},
   "source": [
    "2.  $A - \\lambda I = \\begin{bmatrix}\n",
    "7-\\lambda & 3\\\\\n",
    "3 & -1-\\lambda\n",
    "\\end{bmatrix}\n",
    "$"
   ]
  },
  {
   "cell_type": "markdown",
   "metadata": {},
   "source": [
    "Solve this equation we can get a $\\lambda$ = 8 which is the eigenvalue"
   ]
  },
  {
   "cell_type": "markdown",
   "metadata": {},
   "source": [
    "To find the corresponding eigenvector: <br>\n",
    "$A - \\lambda I$ = B<br>\n",
    "And let $B\\overline{x} = \\overline{0}$"
   ]
  },
  {
   "cell_type": "markdown",
   "metadata": {},
   "source": [
    "Solve the equation to get the eigenvector $\\overline{x}$"
   ]
  },
  {
   "cell_type": "code",
   "execution_count": null,
   "metadata": {
    "collapsed": true
   },
   "outputs": [],
   "source": []
  },
  {
   "cell_type": "code",
   "execution_count": null,
   "metadata": {
    "collapsed": true
   },
   "outputs": [],
   "source": []
  },
  {
   "cell_type": "code",
   "execution_count": null,
   "metadata": {
    "collapsed": true
   },
   "outputs": [],
   "source": []
  },
  {
   "cell_type": "markdown",
   "metadata": {},
   "source": [
    "## Try to use larger dataset"
   ]
  },
  {
   "cell_type": "code",
   "execution_count": 140,
   "metadata": {},
   "outputs": [],
   "source": [
    "data_dir2 = os.path.join('data', 'ml-latest-small')"
   ]
  },
  {
   "cell_type": "code",
   "execution_count": 141,
   "metadata": {
    "collapsed": true
   },
   "outputs": [],
   "source": [
    "file_name2 = os.path.join(data_dir2, 'ratings.csv') "
   ]
  },
  {
   "cell_type": "code",
   "execution_count": 142,
   "metadata": {
    "collapsed": true
   },
   "outputs": [],
   "source": [
    "df = pd.read_csv(file_name2)"
   ]
  },
  {
   "cell_type": "code",
   "execution_count": 143,
   "metadata": {},
   "outputs": [
    {
     "data": {
      "text/plain": [
       "(100836, 4)"
      ]
     },
     "execution_count": 143,
     "metadata": {},
     "output_type": "execute_result"
    }
   ],
   "source": [
    "df.shape"
   ]
  },
  {
   "cell_type": "code",
   "execution_count": 145,
   "metadata": {},
   "outputs": [
    {
     "name": "stdout",
     "output_type": "stream",
     "text": [
      "Number of users = 610| number of movies = 9724\n"
     ]
    }
   ],
   "source": [
    "n_users2 = df.userId.unique().shape[0]\n",
    "\n",
    "n_items2 = df.movieId.unique().shape[0]\n",
    "\n",
    "print('Number of users = ' + str(n_users2) + '| number of movies = '+ str(n_items2))"
   ]
  },
  {
   "cell_type": "code",
   "execution_count": 146,
   "metadata": {
    "collapsed": true
   },
   "outputs": [],
   "source": [
    "train_data2, test_data2 = train_test_split(df, test_size = 0.1)"
   ]
  },
  {
   "cell_type": "code",
   "execution_count": 152,
   "metadata": {},
   "outputs": [
    {
     "data": {
      "text/plain": [
       "(610, 9724)"
      ]
     },
     "execution_count": 152,
     "metadata": {},
     "output_type": "execute_result"
    }
   ],
   "source": [
    "train_data_matrix2 = np.zeros((n_users2, n_items2))\n",
    "\n",
    "train_data_matrix2.shape"
   ]
  },
  {
   "cell_type": "code",
   "execution_count": 153,
   "metadata": {
    "collapsed": true
   },
   "outputs": [],
   "source": [
    "test_data_matrix2 = np.zeros((n_users2, n_items2))"
   ]
  },
  {
   "cell_type": "code",
   "execution_count": 157,
   "metadata": {},
   "outputs": [
    {
     "data": {
      "text/plain": [
       "(610, 9724)"
      ]
     },
     "execution_count": 157,
     "metadata": {},
     "output_type": "execute_result"
    }
   ],
   "source": [
    "train_data_matrix2.shape"
   ]
  },
  {
   "cell_type": "code",
   "execution_count": 164,
   "metadata": {},
   "outputs": [
    {
     "data": {
      "text/plain": [
       "9417"
      ]
     },
     "execution_count": 164,
     "metadata": {},
     "output_type": "execute_result"
    }
   ],
   "source": []
  },
  {
   "cell_type": "code",
   "execution_count": 158,
   "metadata": {},
   "outputs": [
    {
     "ename": "IndexError",
     "evalue": "index 87306 is out of bounds for axis 1 with size 9724",
     "output_type": "error",
     "traceback": [
      "\u001b[0;31m---------------------------------------------------------------------------\u001b[0m",
      "\u001b[0;31mIndexError\u001b[0m                                Traceback (most recent call last)",
      "\u001b[0;32m<ipython-input-158-505d4ccf4f98>\u001b[0m in \u001b[0;36m<module>\u001b[0;34m()\u001b[0m\n\u001b[1;32m      1\u001b[0m \u001b[0;32mfor\u001b[0m \u001b[0mline\u001b[0m \u001b[0;32min\u001b[0m \u001b[0mtrain_data2\u001b[0m\u001b[0;34m.\u001b[0m\u001b[0mitertuples\u001b[0m\u001b[0;34m(\u001b[0m\u001b[0;34m)\u001b[0m\u001b[0;34m:\u001b[0m\u001b[0;34m\u001b[0m\u001b[0m\n\u001b[0;32m----> 2\u001b[0;31m     \u001b[0mtrain_data_matrix2\u001b[0m\u001b[0;34m[\u001b[0m\u001b[0mline\u001b[0m\u001b[0;34m[\u001b[0m\u001b[0;36m1\u001b[0m\u001b[0;34m]\u001b[0m\u001b[0;34m,\u001b[0m \u001b[0mline\u001b[0m\u001b[0;34m[\u001b[0m\u001b[0;36m2\u001b[0m\u001b[0;34m]\u001b[0m\u001b[0;34m]\u001b[0m \u001b[0;34m=\u001b[0m \u001b[0mline\u001b[0m\u001b[0;34m[\u001b[0m\u001b[0;36m3\u001b[0m\u001b[0;34m]\u001b[0m\u001b[0;34m\u001b[0m\u001b[0m\n\u001b[0m\u001b[1;32m      3\u001b[0m \u001b[0;34m\u001b[0m\u001b[0m\n\u001b[1;32m      4\u001b[0m \u001b[0;32mfor\u001b[0m \u001b[0mline\u001b[0m \u001b[0;32min\u001b[0m \u001b[0mtest_data2\u001b[0m\u001b[0;34m.\u001b[0m\u001b[0mitertuples\u001b[0m\u001b[0;34m(\u001b[0m\u001b[0;34m)\u001b[0m\u001b[0;34m:\u001b[0m\u001b[0;34m\u001b[0m\u001b[0m\n\u001b[1;32m      5\u001b[0m     \u001b[0mtest_data_matrix2\u001b[0m\u001b[0;34m[\u001b[0m\u001b[0mline\u001b[0m\u001b[0;34m[\u001b[0m\u001b[0;36m1\u001b[0m\u001b[0;34m]\u001b[0m \u001b[0;34m-\u001b[0m \u001b[0;36m1\u001b[0m\u001b[0;34m,\u001b[0m \u001b[0mline\u001b[0m\u001b[0;34m[\u001b[0m\u001b[0;36m2\u001b[0m\u001b[0;34m]\u001b[0m \u001b[0;34m-\u001b[0m \u001b[0;36m1\u001b[0m\u001b[0;34m]\u001b[0m \u001b[0;34m=\u001b[0m \u001b[0mline\u001b[0m\u001b[0;34m[\u001b[0m\u001b[0;36m3\u001b[0m\u001b[0;34m]\u001b[0m\u001b[0;34m\u001b[0m\u001b[0m\n",
      "\u001b[0;31mIndexError\u001b[0m: index 87306 is out of bounds for axis 1 with size 9724"
     ]
    }
   ],
   "source": [
    "for line in train_data2.itertuples():\n",
    "    train_data_matrix2[line[1] - 1, line[2] - 1] = line[3]\n",
    "\n",
    "for line in test_data2.itertuples():\n",
    "    test_data_matrix2[line[1] - 1, line[2] - 1] = line[3]"
   ]
  },
  {
   "cell_type": "code",
   "execution_count": 170,
   "metadata": {},
   "outputs": [
    {
     "data": {
      "text/plain": [
       "(100000, 4)"
      ]
     },
     "execution_count": 170,
     "metadata": {},
     "output_type": "execute_result"
    }
   ],
   "source": [
    "df.shape"
   ]
  },
  {
   "cell_type": "code",
   "execution_count": 171,
   "metadata": {},
   "outputs": [
    {
     "data": {
      "text/plain": [
       "'/Users/mac/Desktop/UCD/Code/RecSys_Preparation'"
      ]
     },
     "execution_count": 171,
     "metadata": {},
     "output_type": "execute_result"
    }
   ],
   "source": [
    "pwd"
   ]
  },
  {
   "cell_type": "code",
   "execution_count": 173,
   "metadata": {},
   "outputs": [
    {
     "name": "stdout",
     "output_type": "stream",
     "text": [
      "/Users/mac/Desktop/UCD/Code/RecSys_Preparation/data\n"
     ]
    }
   ],
   "source": [
    "cd data/"
   ]
  },
  {
   "cell_type": "code",
   "execution_count": 174,
   "metadata": {},
   "outputs": [
    {
     "name": "stdout",
     "output_type": "stream",
     "text": [
      "User_base_and_item_base.jpeg  \u001b[34mml-latest-small\u001b[m\u001b[m/\r\n",
      "\u001b[34mml-100k\u001b[m\u001b[m/                      user_base.png\r\n"
     ]
    }
   ],
   "source": [
    "ls"
   ]
  },
  {
   "cell_type": "code",
   "execution_count": 175,
   "metadata": {},
   "outputs": [
    {
     "name": "stdout",
     "output_type": "stream",
     "text": [
      "/Users/mac/Desktop/UCD/Code/RecSys_Preparation/data/ml-100k\n"
     ]
    }
   ],
   "source": [
    "cd ml-100k/"
   ]
  },
  {
   "cell_type": "code",
   "execution_count": 176,
   "metadata": {},
   "outputs": [
    {
     "name": "stdout",
     "output_type": "stream",
     "text": [
      "README        u.info        u1.test       u4.base       ua.test\r\n",
      "\u001b[31mallbut.pl\u001b[m\u001b[m*    u.item        u2.base       u4.test       ub.base\r\n",
      "\u001b[31mmku.sh\u001b[m\u001b[m*       u.occupation  u2.test       u5.base       ub.test\r\n",
      "u.data        u.user        u3.base       u5.test\r\n",
      "u.genre       u1.base       u3.test       ua.base\r\n"
     ]
    }
   ],
   "source": [
    "ls"
   ]
  },
  {
   "cell_type": "code",
   "execution_count": 177,
   "metadata": {},
   "outputs": [
    {
     "data": {
      "text/plain": [
       "'data/ml-100k'"
      ]
     },
     "execution_count": 177,
     "metadata": {},
     "output_type": "execute_result"
    }
   ],
   "source": [
    "data_dir"
   ]
  },
  {
   "cell_type": "code",
   "execution_count": 184,
   "metadata": {},
   "outputs": [
    {
     "name": "stdout",
     "output_type": "stream",
     "text": [
      "/Users/mac/Desktop/UCD/Code/RecSys_Preparation\n"
     ]
    }
   ],
   "source": [
    "cd .."
   ]
  },
  {
   "cell_type": "code",
   "execution_count": null,
   "metadata": {
    "collapsed": true
   },
   "outputs": [],
   "source": [
    "from sklearn.metrics import mean_absolute_error\n",
    "data_shape = (943, 1682)\n",
    "df = pd.read_csv(data_dir + \"/ua.base\", sep=\"\\t\", header=-1)\n",
    "values = df.values\n",
    "values[:, 0:2] -= 1"
   ]
  },
  {
   "cell_type": "code",
   "execution_count": 201,
   "metadata": {},
   "outputs": [
    {
     "data": {
      "text/plain": [
       "(9430, 4)"
      ]
     },
     "execution_count": 201,
     "metadata": {},
     "output_type": "execute_result"
    }
   ],
   "source": [
    "values.shape"
   ]
  },
  {
   "cell_type": "code",
   "execution_count": 199,
   "metadata": {},
   "outputs": [
    {
     "name": "stdout",
     "output_type": "stream",
     "text": [
      "2 0.7632419407797969 0.8062531226330467\n",
      "3 0.7545135187578939 0.8048283869532032\n",
      "4 0.7461815082010831 0.803729719563713\n",
      "5 0.7386400369670652 0.8011145270503263\n",
      "6 0.7306512701022605 0.798606159176064\n",
      "7 0.7245430691752702 0.7950942508422514\n",
      "8 0.7184225229432085 0.7947004912749904\n",
      "9 0.7131587228174484 0.7944223883210804\n",
      "10 0.7078434814689719 0.7941923052812567\n",
      "11 0.7031113156493303 0.7943444364320172\n",
      "12 0.6981481528577465 0.7943605493580395\n",
      "13 0.6929835821073164 0.7934440095633654\n",
      "14 0.6884743963590056 0.7929708627863534\n",
      "15 0.6836396562235089 0.7922081894793233\n",
      "16 0.6790602923886585 0.7920361382802814\n",
      "17 0.6747128004581309 0.7918711839004922\n",
      "18 0.6703847818696135 0.7922283928765901\n",
      "19 0.6660369335968889 0.7929622216206689\n",
      "20 0.6618914209928964 0.7932268361329607\n",
      "21 0.6575440316880845 0.7933534111379542\n",
      "22 0.653316116100171 0.7936182056562894\n",
      "23 0.6494722231973431 0.7941444714887819\n",
      "24 0.6453853056023461 0.7942901022234803\n",
      "25 0.6412792909620335 0.7951338725132165\n",
      "26 0.6373078537624587 0.7950745001287143\n",
      "27 0.6333146186375648 0.7956636668687774\n",
      "28 0.6292017428524356 0.7957361343044953\n",
      "29 0.6252622140316311 0.7960840321096626\n",
      "30 0.6215188676447478 0.7957412153309126\n",
      "31 0.6175938121846396 0.795572483961698\n",
      "32 0.6137105490489999 0.795565705720752\n",
      "33 0.6098458596280191 0.7960940128571472\n",
      "34 0.6062537439843393 0.7961707413638731\n",
      "35 0.6025051897252148 0.7961095611882969\n",
      "36 0.598928483757627 0.7968889982244587\n",
      "37 0.5952240623516546 0.7968185792869534\n",
      "38 0.5917316566213479 0.7970981084369695\n",
      "39 0.5882697065479665 0.7970801224518381\n",
      "40 0.5847241837475189 0.7969127924617591\n",
      "41 0.5812847325404097 0.7971014591449213\n",
      "42 0.577794044022998 0.7969557032562768\n",
      "43 0.5742233313373349 0.7971074831128008\n",
      "44 0.5708591766563627 0.7973763699903776\n",
      "45 0.5674171726765729 0.7970690850289244\n",
      "46 0.5641516563496675 0.7976695390479933\n",
      "47 0.5609473065261579 0.7978759804926607\n",
      "48 0.5576684718182677 0.797597576500248\n",
      "49 0.5543676317941615 0.7980350834939012\n"
     ]
    }
   ],
   "source": [
    "X_train = sp.csr_matrix((values[:, 2], (values[:, 0], values[:, 1])), dtype=np.float, shape=data_shape)\n",
    "\n",
    "df = pd.read_csv(data_dir + \"/ua.test\", sep=\"\\t\", header=-1)\n",
    "values = df.values\n",
    "values[:, 0:2] -= 1\n",
    "X_test = sp.csr_matrix((values[:, 2], (values[:, 0], values[:, 1])), dtype=np.float, shape=data_shape)\n",
    "\n",
    "# Compute means of nonzero elements\n",
    "X_row_mean = np.zeros(data_shape[0])\n",
    "X_row_sum = np.zeros(data_shape[0])\n",
    "\n",
    "train_rows, train_cols = X_train.nonzero()\n",
    "\n",
    "# Iterate through nonzero elements to compute sums and counts of rows elements\n",
    "for i in range(train_rows.shape[0]):\n",
    "    X_row_mean[train_rows[i]] += X_train[train_rows[i], train_cols[i]]\n",
    "    X_row_sum[train_rows[i]] += 1\n",
    "\n",
    "# Note that (X_row_sum == 0) is required to prevent divide by zero\n",
    "X_row_mean /= X_row_sum + (X_row_sum == 0)\n",
    "\n",
    "# Subtract mean rating for each user\n",
    "for i in range(train_rows.shape[0]):\n",
    "    X_train[train_rows[i], train_cols[i]] -= X_row_mean[train_rows[i]]\n",
    "\n",
    "test_rows, test_cols = X_test.nonzero()\n",
    "for i in range(test_rows.shape[0]):\n",
    "    X_test[test_rows[i], test_cols[i]] -= X_row_mean[test_rows[i]]\n",
    "\n",
    "X_train = np.array(X_train.toarray())\n",
    "X_test = np.array(X_test.toarray())\n",
    "\n",
    "ks = np.arange(2, 50)\n",
    "train_mae = np.zeros(ks.shape[0])\n",
    "test_mae = np.zeros(ks.shape[0])\n",
    "train_scores = X_train[(train_rows, train_cols)]\n",
    "test_scores = X_test[(test_rows, test_cols)]\n",
    "\n",
    "# Now take SVD of X_train\n",
    "U, s, Vt = np.linalg.svd(X_train, full_matrices=False)\n",
    "\n",
    "for j, k in enumerate(ks):\n",
    "    X_pred = U[:, 0:k].dot(np.diag(s[0:k])).dot(Vt[0:k, :])\n",
    "\n",
    "    pred_train_scores = X_pred[(train_rows, train_cols)]\n",
    "    pred_test_scores = X_pred[(test_rows, test_cols)]\n",
    "\n",
    "    train_mae[j] = mean_absolute_error(train_scores, pred_train_scores)\n",
    "    test_mae[j] = mean_absolute_error(test_scores, pred_test_scores)\n",
    "\n",
    "    print(k,  train_mae[j], test_mae[j])"
   ]
  },
  {
   "cell_type": "code",
   "execution_count": 188,
   "metadata": {},
   "outputs": [
    {
     "data": {
      "text/plain": [
       "(90570, 4)"
      ]
     },
     "execution_count": 188,
     "metadata": {},
     "output_type": "execute_result"
    }
   ],
   "source": [
    "df.shape"
   ]
  },
  {
   "cell_type": "code",
   "execution_count": null,
   "metadata": {
    "collapsed": true
   },
   "outputs": [],
   "source": []
  }
 ],
 "metadata": {
  "kernelspec": {
   "display_name": "Python [conda env:py3.6]",
   "language": "python",
   "name": "conda-env-py3.6-py"
  },
  "language_info": {
   "codemirror_mode": {
    "name": "ipython",
    "version": 3
   },
   "file_extension": ".py",
   "mimetype": "text/x-python",
   "name": "python",
   "nbconvert_exporter": "python",
   "pygments_lexer": "ipython3",
   "version": "3.6.2"
  }
 },
 "nbformat": 4,
 "nbformat_minor": 2
}
